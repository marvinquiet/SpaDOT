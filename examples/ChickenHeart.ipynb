{
 "cells": [
  {
   "cell_type": "markdown",
   "id": "18632ae7",
   "metadata": {
    "vscode": {
     "languageId": "plaintext"
    }
   },
   "source": [
    "## Example 1: Developing Chicken Heart\n",
    "This notebook illustrates the training of SpaDOT on the [developing chicken heart]((https://doi.org/10.1038/s41467-021-21892-z)). The spatiotemporal dataset is measured by 10X Visium and collected from four stages: Day 4, Day 7, Day 10 and Day 14. In this dataset, SpaDOT accurately identifies valvulogenesis - a valve splits into artrioventricular valve and semilunar valve at Day 14.\n",
    "\n",
    "For your convenience, you can download the processed data [here](https://www.dropbox.com/scl/fi/xklj0dxkd2wz10ahgbwg1/ChickenHeart.h5ad?rlkey=06245qjhv4ohij5530a1az91c&dl=0). If you would like to see the preprocessing steps, please expand the section below:\n",
    "\n",
    "<details>\n",
    "<summary>Click to expand</summary>\n",
    "\n",
    "First, we downloaded the spatial transcritpomics data from [GSE149457](https://www.ncbi.nlm.nih.gov/geo/query/acc.cgi?acc=GSE149457) and selected \n",
    "```\n",
    "GSM4502482_chicken_heart_spatial_RNAseq_D4_filtered_feature_bc_matrix.h5\n",
    "GSM4502483_chicken_heart_spatial_RNAseq_D7_filtered_feature_bc_matrix.h5\n",
    "GSM4502484_chicken_heart_spatial_RNAseq_D10_filtered_feature_bc_matrix.h5\n",
    "GSM4502485_chicken_heart_spatial_RNAseq_D14_filtered_feature_bc_matrix.h5\n",
    "```\n",
    "\n",
    "Second, we downloaded spatial coordinates from the analysis code shared by the paper on [Github](https://github.com/madhavmantri/chicken_heart/tree/master/data/chicken_heart_spatial_RNAseq_processed):\n",
    "\n",
    "\n",
    "```\n",
    "chicken_heart_spatial_RNAseq_D4_tissue_positions_list.csv\n",
    "chicken_heart_spatial_RNAseq_D7_tissue_positions_list.csv\n",
    "chicken_heart_spatial_RNAseq_D10_tissue_positions_list.csv\n",
    "chicken_heart_spatial_RNAseq_D14_tissue_positions_list.csv\n",
    "```\n",
    "\n",
    "Third, we used the script `process_ChickenHeart.py` provided [here](https://github.com/marvinquiet/SpaDOT/blob/main/analyses/process_ChickenHeart.py) to preprocess the data by integrating them into one anndata with `timepoint` in anndata observations (obs) as one-hot encoder indicating four time points, `0`, `1`, `2` and `3` indicate Day 4, Day 7, Day 10 and Day 14, respectively. We have also put the spatial coordinates with keyword `spatial` as a numpy array inside anndata observation metadata (obsm).\n",
    "\n",
    "After running the `process_ChickenHeart.py`, we will obtain the file `ChickenHeart.h5ad`. \n",
    "</details>"
   ]
  },
  {
   "cell_type": "markdown",
   "id": "45e30f89",
   "metadata": {},
   "source": [
    "### Step 1: Perform data preprocessing and feature selection\n",
    "\n",
    "After obtaining `ChickenHeart.h5ad`, we the perform the data preprocessing. "
   ]
  },
  {
   "cell_type": "code",
   "execution_count": 8,
   "id": "e2be9748",
   "metadata": {},
   "outputs": [
    {
     "name": "stdout",
     "output_type": "stream",
     "text": [
      "using default random_seed 1448145, will run SCT without randomness\n",
      "gene-cell umi shape (10521, 747), n_genes 2000 n_cells 747\n",
      "get_model_pars finished, cost 5.463442325592041 seconds\n",
      "ksmooth finished, cost 0.41453099250793457 seconds\n",
      "reg_model_pars finished, cost 1.293031930923462 seconds\n",
      "pearson_residual cost 1.378955602645874 seconds\n",
      "umi_corrected cost 0.19406485557556152 seconds\n",
      "scale data cost 0.07704281806945801 seconds\n",
      "Timepoint: 0, Number of cells: 747, Number of genes: 10521\n",
      "## ===== SPARK-X INPUT INFORMATION ==== \n",
      "## number of total samples: 747\n",
      "## number of total genes: 10521\n",
      "## Running with 4 cores\n",
      "## Testing With Projection Kernel\n",
      "## Testing With Gaussian Kernel 1\n",
      "## Testing With Gaussian Kernel 2\n",
      "## Testing With Gaussian Kernel 3\n",
      "## Testing With Gaussian Kernel 4\n",
      "## Testing With Gaussian Kernel 5\n",
      "## Testing With Cosine Kernel 1\n",
      "## Testing With Cosine Kernel 2\n",
      "## Testing With Cosine Kernel 3\n",
      "## Testing With Cosine Kernel 4\n",
      "## Testing With Cosine Kernel 5\n",
      "Time taken for mixture kernels: 4.42 seconds\n",
      "Time taken for clustering SVGs: 24.22 seconds\n",
      "using default random_seed 1448145, will run SCT without randomness\n",
      "gene-cell umi shape (11822, 1966), n_genes 2000 n_cells 1966\n",
      "get_model_pars finished, cost 5.848090648651123 seconds\n",
      "ksmooth finished, cost 0.42000484466552734 seconds\n",
      "reg_model_pars finished, cost 1.2917323112487793 seconds\n",
      "pearson_residual cost 1.8398427963256836 seconds\n",
      "umi_corrected cost 1.4251677989959717 seconds\n",
      "scale data cost 0.23731732368469238 seconds\n",
      "Timepoint: 1, Number of cells: 1966, Number of genes: 11822\n",
      "## ===== SPARK-X INPUT INFORMATION ==== \n",
      "## number of total samples: 1966\n",
      "## number of total genes: 11822\n",
      "## Running with 4 cores\n",
      "## Testing With Projection Kernel\n",
      "## Testing With Gaussian Kernel 1\n",
      "## Testing With Gaussian Kernel 2\n",
      "## Testing With Gaussian Kernel 3\n",
      "## Testing With Gaussian Kernel 4\n",
      "## Testing With Gaussian Kernel 5\n",
      "## Testing With Cosine Kernel 1\n",
      "## Testing With Cosine Kernel 2\n",
      "## Testing With Cosine Kernel 3\n",
      "## Testing With Cosine Kernel 4\n",
      "## Testing With Cosine Kernel 5\n",
      "Time taken for mixture kernels: 7.00 seconds\n",
      "Time taken for clustering SVGs: 17.95 seconds\n",
      "using default random_seed 1448145, will run SCT without randomness\n",
      "gene-cell umi shape (11772, 1916), n_genes 2000 n_cells 1916\n",
      "get_model_pars finished, cost 5.932121515274048 seconds\n",
      "ksmooth finished, cost 0.39939355850219727 seconds\n",
      "reg_model_pars finished, cost 1.2587804794311523 seconds\n",
      "pearson_residual cost 2.7270326614379883 seconds\n",
      "umi_corrected cost 2.7050957679748535 seconds\n",
      "scale data cost 0.19367432594299316 seconds\n",
      "Timepoint: 2, Number of cells: 1916, Number of genes: 11772\n",
      "## ===== SPARK-X INPUT INFORMATION ==== \n",
      "## number of total samples: 1916\n",
      "## number of total genes: 11772\n",
      "## Running with 4 cores\n",
      "## Testing With Projection Kernel\n",
      "## Testing With Gaussian Kernel 1\n",
      "## Testing With Gaussian Kernel 2\n",
      "## Testing With Gaussian Kernel 3\n",
      "## Testing With Gaussian Kernel 4\n",
      "## Testing With Gaussian Kernel 5\n",
      "## Testing With Cosine Kernel 1\n",
      "## Testing With Cosine Kernel 2\n",
      "## Testing With Cosine Kernel 3\n",
      "## Testing With Cosine Kernel 4\n",
      "## Testing With Cosine Kernel 5\n",
      "Time taken for mixture kernels: 4.61 seconds\n",
      "Time taken for clustering SVGs: 15.99 seconds\n",
      "using default random_seed 1448145, will run SCT without randomness\n",
      "gene-cell umi shape (11339, 1967), n_genes 2000 n_cells 1967\n",
      "get_model_pars finished, cost 5.660615921020508 seconds\n",
      "ksmooth finished, cost 0.4058206081390381 seconds\n",
      "reg_model_pars finished, cost 1.2675559520721436 seconds\n",
      "pearson_residual cost 2.038381338119507 seconds\n",
      "umi_corrected cost 1.368415355682373 seconds\n",
      "scale data cost 0.2042102813720703 seconds\n",
      "Timepoint: 3, Number of cells: 1967, Number of genes: 11339\n",
      "## ===== SPARK-X INPUT INFORMATION ==== \n",
      "## number of total samples: 1967\n",
      "## number of total genes: 11339\n",
      "## Running with 4 cores\n",
      "## Testing With Projection Kernel\n",
      "## Testing With Gaussian Kernel 1\n",
      "## Testing With Gaussian Kernel 2\n",
      "## Testing With Gaussian Kernel 3\n",
      "## Testing With Gaussian Kernel 4\n",
      "## Testing With Gaussian Kernel 5\n",
      "## Testing With Cosine Kernel 1\n",
      "## Testing With Cosine Kernel 2\n",
      "## Testing With Cosine Kernel 3\n",
      "## Testing With Cosine Kernel 4\n",
      "## Testing With Cosine Kernel 5\n",
      "Time taken for mixture kernels: 5.63 seconds\n",
      "Time taken for clustering SVGs: 4.36 seconds\n"
     ]
    }
   ],
   "source": [
    "import os\n",
    "from argparse import Namespace\n",
    "\n",
    "# --- for neat output\n",
    "import warnings\n",
    "# Suppress all UserWarnings\n",
    "warnings.filterwarnings(\"ignore\", category=UserWarning)\n",
    "# Suppress all FutureWarnings\n",
    "warnings.filterwarnings(\"ignore\", category=FutureWarning)\n",
    "\n",
    "import SpaDOT\n",
    "\n",
    "result_dir = './ChickenHeart_output'\n",
    "if not os.path.exists(result_dir):\n",
    "    os.makedirs(result_dir)\n",
    "\n",
    "# --- create args\n",
    "preprocess_args = Namespace(\n",
    "    data='./ChickenHeart.h5ad',\n",
    "    prefix='preprocessed_',\n",
    "    feature_selection=True,\n",
    "    output_dir=result_dir\n",
    ")\n",
    "SpaDOT.preprocess(preprocess_args)"
   ]
  },
  {
   "cell_type": "markdown",
   "id": "4098f9e4",
   "metadata": {},
   "source": [
    "### Step 2: Train SpaDOT to obtain latent representations\n",
    "\n",
    "After preprocessing, we train the SpaDOT model to obtain latent representations. We recommend running the training on a GPU, which typically takes about 5 minutes. Training on a CPU is also possible but will require significantly more time."
   ]
  },
  {
   "cell_type": "code",
   "execution_count": 9,
   "id": "18bf5e21",
   "metadata": {},
   "outputs": [
    {
     "name": "stdout",
     "output_type": "stream",
     "text": [
      "Loading data...\n",
      "Preparing data...\n",
      "Calculating spatial graph...\n",
      "The graph contains 4482 edges, 747 cells.\n",
      "6.0000 neighbors per cell on average.\n",
      "Calculating spatial graph...\n",
      "The graph contains 23592 edges, 1966 cells.\n",
      "12.0000 neighbors per cell on average.\n",
      "Calculating spatial graph...\n",
      "The graph contains 22992 edges, 1916 cells.\n",
      "12.0000 neighbors per cell on average.\n",
      "Calculating spatial graph...\n",
      "The graph contains 23604 edges, 1967 cells.\n",
      "12.0000 neighbors per cell on average.\n",
      "Training model...\n",
      "SpaDOT(\n",
      "  (SVGPEncoder): SVGPEncoder(\n",
      "    (SVGP_encoder_net): Sequential(\n",
      "      (0): Linear(in_features=2954, out_features=256, bias=True)\n",
      "      (1): BatchNorm1d(256, eps=1e-05, momentum=0.1, affine=True, track_running_stats=True)\n",
      "      (2): LeakyReLU(negative_slope=0.01)\n",
      "      (3): Linear(in_features=256, out_features=64, bias=True)\n",
      "      (4): BatchNorm1d(64, eps=1e-05, momentum=0.1, affine=True, track_running_stats=True)\n",
      "      (5): LeakyReLU(negative_slope=0.01)\n",
      "    )\n",
      "    (SVGP_fc): Linear(in_features=64, out_features=20, bias=True)\n",
      "  )\n",
      "  (GATEncoder): GATEncoder(\n",
      "    (gat1): GATConv(2954, 512, heads=4)\n",
      "    (gat2): GATConv(2048, 512, heads=4)\n",
      "    (gat3): GATConv(2048, 512, heads=4)\n",
      "    (GAT_fc): Linear(in_features=512, out_features=20, bias=True)\n",
      "  )\n",
      "  (decoder): Decoder(\n",
      "    (decoder_net): Sequential(\n",
      "      (0): Linear(in_features=20, out_features=64, bias=True)\n",
      "      (1): LayerNorm((64,), eps=1e-05, elementwise_affine=True)\n",
      "      (2): LeakyReLU(negative_slope=0.01)\n",
      "      (3): Linear(in_features=64, out_features=256, bias=True)\n",
      "      (4): LayerNorm((256,), eps=1e-05, elementwise_affine=True)\n",
      "      (5): LeakyReLU(negative_slope=0.01)\n",
      "      (6): Linear(in_features=256, out_features=2954, bias=True)\n",
      "    )\n",
      "  )\n",
      "  (svgp_dict): ModuleDict(\n",
      "    (0): SVGP(\n",
      "      (kernel): Kernel()\n",
      "    )\n",
      "    (1): SVGP(\n",
      "      (kernel): Kernel()\n",
      "    )\n",
      "    (2): SVGP(\n",
      "      (kernel): Kernel()\n",
      "    )\n",
      "    (3): SVGP(\n",
      "      (kernel): Kernel()\n",
      "    )\n",
      "  )\n",
      ")\n",
      "Training SpaDOT model...\n"
     ]
    },
    {
     "name": "stderr",
     "output_type": "stream",
     "text": [
      "  0%|          | 0/100 [00:00<?, ?it/s]"
     ]
    },
    {
     "name": "stdout",
     "output_type": "stream",
     "text": [
      "Epoch 1: Training time: 2 seconds, ELBO: 199.92934340, Recon loss: 1980.31486427, SVGP KL loss: -144.38993204, GAT KL loss: 2619.26694918, Alignment loss: 16.35930274, Kmeans loss: 0.00000000, OT loss: 0.00000000\n"
     ]
    },
    {
     "name": "stderr",
     "output_type": "stream",
     "text": [
      " 10%|█         | 10/100 [00:28<04:07,  2.75s/it]"
     ]
    },
    {
     "name": "stdout",
     "output_type": "stream",
     "text": [
      "OT iter 0\n",
      "OT iter 1\n",
      "OT iter 2\n",
      "OT iter 0\n",
      "OT iter 1\n",
      "OT iter 2\n",
      "OT iter 0\n",
      "OT iter 1\n",
      "OT iter 2\n",
      "Epoch 11: Training time: 2 seconds, ELBO: 183.68761158, Recon loss: 1803.41816353, SVGP KL loss: -9.40707687, GAT KL loss: 3903.62009371, Alignment loss: 7.02553735, Kmeans loss: 22.52879484, OT loss: 0.00000000\n"
     ]
    },
    {
     "name": "stderr",
     "output_type": "stream",
     "text": [
      " 20%|██        | 20/100 [00:59<04:19,  3.24s/it]"
     ]
    },
    {
     "name": "stdout",
     "output_type": "stream",
     "text": [
      "OT iter 0\n",
      "OT iter 1\n",
      "OT iter 2\n",
      "OT iter 0\n",
      "OT iter 1\n",
      "OT iter 2\n",
      "OT iter 0\n",
      "OT iter 1\n",
      "OT iter 2\n",
      "Epoch 21: Training time: 2 seconds, ELBO: 180.46315527, Recon loss: 1776.28481833, SVGP KL loss: -2.49016685, GAT KL loss: 4335.06513675, Alignment loss: 3.30482818, Kmeans loss: 20.70684101, OT loss: 0.00000000\n"
     ]
    },
    {
     "name": "stderr",
     "output_type": "stream",
     "text": [
      " 30%|███       | 30/100 [01:32<03:49,  3.28s/it]"
     ]
    },
    {
     "name": "stdout",
     "output_type": "stream",
     "text": [
      "OT iter 0\n",
      "OT iter 1\n",
      "OT iter 2\n",
      "OT iter 0\n",
      "OT iter 1\n",
      "OT iter 2\n",
      "OT iter 0\n",
      "OT iter 1\n",
      "OT iter 2\n",
      "Epoch 31: Training time: 2 seconds, ELBO: 179.41187039, Recon loss: 1764.10983242, SVGP KL loss: -1.42515902, GAT KL loss: 4444.60038891, Alignment loss: 3.51083552, Kmeans loss: 22.05343555, OT loss: 0.00000000\n"
     ]
    },
    {
     "name": "stderr",
     "output_type": "stream",
     "text": [
      " 40%|████      | 40/100 [02:05<03:16,  3.28s/it]"
     ]
    },
    {
     "name": "stdout",
     "output_type": "stream",
     "text": [
      "OT iter 0\n",
      "OT iter 1\n",
      "OT iter 2\n",
      "OT iter 0\n",
      "OT iter 1\n",
      "OT iter 2\n",
      "OT iter 0\n",
      "OT iter 1\n",
      "OT iter 2\n",
      "Epoch 41: Training time: 2 seconds, ELBO: 178.55708155, Recon loss: 1757.15024718, SVGP KL loss: -2.67722837, GAT KL loss: 4415.97568480, Alignment loss: 2.82303327, Kmeans loss: 21.18155933, OT loss: 0.00000000\n"
     ]
    },
    {
     "name": "stderr",
     "output_type": "stream",
     "text": [
      " 50%|█████     | 50/100 [02:37<02:43,  3.28s/it]"
     ]
    },
    {
     "name": "stdout",
     "output_type": "stream",
     "text": [
      "OT iter 0\n",
      "OT iter 1\n",
      "OT iter 2\n",
      "OT iter 0\n",
      "OT iter 1\n",
      "OT iter 2\n",
      "OT iter 0\n",
      "OT iter 1\n",
      "OT iter 2\n",
      "Epoch 51: Training time: 3 seconds, ELBO: 178.21011323, Recon loss: 1750.13058767, SVGP KL loss: -3.01617111, GAT KL loss: 4643.15698161, Alignment loss: 2.87018294, Kmeans loss: 20.59555884, OT loss: 0.38616459\n"
     ]
    },
    {
     "name": "stderr",
     "output_type": "stream",
     "text": [
      " 60%|██████    | 60/100 [03:12<02:16,  3.42s/it]"
     ]
    },
    {
     "name": "stdout",
     "output_type": "stream",
     "text": [
      "OT iter 0\n",
      "OT iter 1\n",
      "OT iter 2\n",
      "OT iter 0\n",
      "OT iter 1\n",
      "OT iter 2\n",
      "OT iter 0\n",
      "OT iter 1\n",
      "OT iter 2\n",
      "Epoch 61: Training time: 3 seconds, ELBO: 177.63253556, Recon loss: 1745.47938430, SVGP KL loss: -2.26789193, GAT KL loss: 4785.65195298, Alignment loss: 2.63114068, Kmeans loss: 19.92806750, OT loss: 0.35011112\n"
     ]
    },
    {
     "name": "stderr",
     "output_type": "stream",
     "text": [
      " 70%|███████   | 70/100 [03:42<01:27,  2.91s/it]"
     ]
    },
    {
     "name": "stdout",
     "output_type": "stream",
     "text": [
      "OT iter 0\n",
      "OT iter 1\n",
      "OT iter 2\n",
      "OT iter 0\n",
      "OT iter 1\n",
      "OT iter 2\n",
      "OT iter 0\n",
      "OT iter 1\n",
      "OT iter 2\n",
      "Epoch 71: Training time: 2 seconds, ELBO: 177.12075609, Recon loss: 1740.57220245, SVGP KL loss: -1.64303954, GAT KL loss: 4911.65964914, Alignment loss: 2.42036297, Kmeans loss: 19.32665238, OT loss: 0.39766835\n"
     ]
    },
    {
     "name": "stderr",
     "output_type": "stream",
     "text": [
      " 80%|████████  | 80/100 [04:11<00:56,  2.84s/it]"
     ]
    },
    {
     "name": "stdout",
     "output_type": "stream",
     "text": [
      "OT iter 0\n",
      "OT iter 1\n",
      "OT iter 2\n",
      "OT iter 0\n",
      "OT iter 1\n",
      "OT iter 2\n",
      "OT iter 0\n",
      "OT iter 1\n",
      "OT iter 2\n",
      "Epoch 81: Training time: 2 seconds, ELBO: 177.39990779, Recon loss: 1742.40926097, SVGP KL loss: -0.93593225, GAT KL loss: 4871.13185899, Alignment loss: 2.84462279, Kmeans loss: 19.82739471, OT loss: 0.40466676\n"
     ]
    },
    {
     "name": "stderr",
     "output_type": "stream",
     "text": [
      " 90%|█████████ | 90/100 [04:43<00:33,  3.38s/it]"
     ]
    },
    {
     "name": "stdout",
     "output_type": "stream",
     "text": [
      "OT iter 0\n",
      "OT iter 1\n",
      "OT iter 2\n",
      "OT iter 0\n",
      "OT iter 1\n",
      "OT iter 2\n",
      "OT iter 0\n",
      "OT iter 1\n",
      "OT iter 2\n",
      "Epoch 91: Training time: 3 seconds, ELBO: 176.66554751, Recon loss: 1736.56405506, SVGP KL loss: -0.86964505, GAT KL loss: 4999.42434799, Alignment loss: 2.32719651, Kmeans loss: 18.97556704, OT loss: 0.37892322\n"
     ]
    },
    {
     "name": "stderr",
     "output_type": "stream",
     "text": [
      "100%|██████████| 100/100 [05:18<00:00,  3.18s/it]"
     ]
    },
    {
     "name": "stdout",
     "output_type": "stream",
     "text": [
      "OT iter 0\n",
      "OT iter 1\n",
      "OT iter 2\n",
      "OT iter 0\n",
      "OT iter 1\n",
      "OT iter 2\n",
      "OT iter 0\n",
      "OT iter 1\n",
      "OT iter 2\n",
      "Training finished...\n",
      "Training time: 318 seconds.\n",
      "Model saved to ./ChickenHeart_output\n"
     ]
    },
    {
     "name": "stderr",
     "output_type": "stream",
     "text": [
      "\n"
     ]
    }
   ],
   "source": [
    "train_args = Namespace(\n",
    "    data=result_dir+os.sep+'preprocessed_ChickenHeart.h5ad',\n",
    "    output_dir=result_dir,\n",
    "    prefix=\"\",\n",
    "    config = None, # use default configuration\n",
    "    save_model = True,\n",
    "    device = 'cuda:0' # if GPU is not available, you can also use cpu, but not recommended\n",
    ")\n",
    "SpaDOT.train(train_args)"
   ]
  },
  {
   "cell_type": "markdown",
   "id": "bc43889c",
   "metadata": {},
   "source": [
    "The latent representations are stored as `latent.h5ad`."
   ]
  },
  {
   "cell_type": "markdown",
   "id": "fd390531",
   "metadata": {},
   "source": [
    "### Step 3: Infer spatial domains and domain dynamics\n",
    "\n",
    "Once the training stage finishes, we can obtain spatial domains and generate domain dynamics. If we have prior knowledge on how many domains we might have (given by the original study), we can run:"
   ]
  },
  {
   "cell_type": "code",
   "execution_count": 10,
   "id": "eb9796b2",
   "metadata": {},
   "outputs": [
    {
     "name": "stderr",
     "output_type": "stream",
     "text": [
      "WARNING:wot:local_pca set to 30, above gene count of 20. Disabling PCA\n"
     ]
    }
   ],
   "source": [
    "analyze_args = Namespace(\n",
    "    data=result_dir+os.sep+'latent.h5ad',\n",
    "    prefix=\"\",\n",
    "    output_dir=result_dir,\n",
    "    n_clusters=[5, 7, 7, 6]\n",
    ")\n",
    "SpaDOT.analyze(analyze_args)"
   ]
  },
  {
   "cell_type": "markdown",
   "id": "d8e34046",
   "metadata": {},
   "source": [
    "The spatial domain images are saved in `ChickenHeart_output/` as `{tp}_domains.png`, while the dot plots indicating transitions are saved as `transition_dotplot_{tp_i}_{tp_i+1}.png`.\n",
    "\n",
    "#### Spatial domains for developing chicken heart\n",
    "| Timepoint | Day 4 | Day 7 | Day 10 | Day 14 | \n",
    "|-----------|-------|-------|--------|--------|\n",
    "| Spatial Domains | ![Day 4](ChickenHeart_output/0_domains.png) | ![Day 7](ChickenHeart_output/1_domains.png) | ![Day 10](ChickenHeart_output/2_domains.png) | ![Day 14](ChickenHeart_output/3_domains.png) | \n",
    "\n",
    "### Domain dynamics analysis\n",
    "\n",
    "| Timepoint | Day 4 --> Day 7 | Day 7 --> Day 10 | Day 10 --> Day 14 | \n",
    "|-----------|-----------------|------------------|-------------------|\n",
    "| OT transition | ![Day 4to7](ChickenHeart_output/transition_dotplot_0_1.png) | ![Day 7to10](ChickenHeart_output/transition_dotplot_1_2.png) |  ![Day 10to14](ChickenHeart_output/transition_dotplot_2_3.png) |\n"
   ]
  },
  {
   "cell_type": "markdown",
   "id": "14b040bd",
   "metadata": {},
   "source": [
    "### Step 4 (Optional):  Infer domains and dynamics using adaptive methods\n",
    "\n",
    "When performing exploratory studies, number of domains are generally unknown. Therefore, we can remove `--n_clusters` option and use Elbow method to adaptively detect number of clusters."
   ]
  },
  {
   "cell_type": "code",
   "execution_count": 11,
   "id": "6d65a818",
   "metadata": {},
   "outputs": [
    {
     "name": "stderr",
     "output_type": "stream",
     "text": [
      "WARNING:wot:local_pca set to 30, above gene count of 20. Disabling PCA\n"
     ]
    }
   ],
   "source": [
    "analyze_args = Namespace(\n",
    "    data=result_dir+os.sep+'latent.h5ad',\n",
    "    prefix=\"adaptive_\",\n",
    "    output_dir=result_dir,\n",
    "    n_clusters=None\n",
    ")\n",
    "SpaDOT.analyze(analyze_args)"
   ]
  },
  {
   "cell_type": "markdown",
   "id": "6359bf05",
   "metadata": {},
   "source": [
    "We then have the plot of calculating the within-cluster sum of squares (WSS) of KMeans with the number of clusters ranging from 5 to 20. We detect the Elbow point and select the corresponding cluster number.\n",
    "\n",
    "### Output WSS per cluster and spatial domains\n",
    "\n",
    "| Timepoint | Day 4 | Day 7 | Day 10 | Day 14 | \n",
    "|-----------|-------|-------|--------|--------|\n",
    "| WSS per cluster | ![Day 4](ChickenHeart_output/adaptive_0_WSS_vs_Clusters.png) | ![Day 7](ChickenHeart_output/adaptive_1_WSS_vs_Clusters.png) | ![Day 10](ChickenHeart_output/adaptive_2_WSS_vs_Clusters.png) | ![Day 14](ChickenHeart_output/adaptive_0_WSS_vs_Clusters.png) | \n",
    "| Spatial Domains | ![Day 4](ChickenHeart_output/adaptive_0_domains.png) | ![Day 7](ChickenHeart_output/adaptive_1_domains.png) | ![Day 10](ChickenHeart_output/adaptive_2_domains.png) | ![Day 14](ChickenHeart_output/adaptive_3_domains.png) | \n",
    "\n",
    "### Output OT analysis\n",
    "\n",
    "| Timepoint | Day 4 --> Day 7 | Day 7 --> Day 10 | Day 10 --> Day 14 | \n",
    "|-----------|-----------------|------------------|-------------------|\n",
    "| OT transition | ![Day 4to7](ChickenHeart_output/adaptive_transition_dotplot_0_1.png) | ![Day 7to10](ChickenHeart_output/adaptive_transition_dotplot_1_2.png) |  ![Day 10to14](ChickenHeart_output/adaptive_transition_dotplot_2_3.png) |"
   ]
  }
 ],
 "metadata": {
  "kernelspec": {
   "display_name": "Python 3",
   "language": "python",
   "name": "python3"
  },
  "language_info": {
   "codemirror_mode": {
    "name": "ipython",
    "version": 3
   },
   "file_extension": ".py",
   "mimetype": "text/x-python",
   "name": "python",
   "nbconvert_exporter": "python",
   "pygments_lexer": "ipython3",
   "version": "3.9.23"
  }
 },
 "nbformat": 4,
 "nbformat_minor": 5
}
